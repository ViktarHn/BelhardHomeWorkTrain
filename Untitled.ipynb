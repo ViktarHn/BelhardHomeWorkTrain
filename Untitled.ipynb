{
 "cells": [
  {
   "cell_type": "raw",
   "id": "7b4ec0bc-8e7b-4b1a-aa90-d525c78705e8",
   "metadata": {},
   "source": [
    "import pandas as pd\n",
    "import numpy as np\n",
    "import matplotlib.pyplot as plt\n",
    "import seaborn as sns\n",
    "import logging\n",
    "\n",
    "# Настройка логирования\n",
    "logging.basicConfig(level=logging.INFO, format='%(asctime)s - %(name)s - %(levelname)s - %(message)s')\n",
    "logger = logging.getLogger(__name__)"
   ]
  },
  {
   "cell_type": "code",
   "execution_count": null,
   "id": "8ff4e1ae-30fc-46aa-a415-7e0d7817cfde",
   "metadata": {},
   "outputs": [],
   "source": [
    "# Загрузка данных\n",
    "file_path = \"season-2324.csv\"\n",
    "try:\n",
    "    data = pd.read_csv(file_path)\n",
    "    logger.info(f\"Данные загружены из CSV: {file_path}\")\n",
    "except Exception as e:\n",
    "    logger.error(f\"Ошибка загрузки CSV: {e}\")\n",
    "    raise\n",
    "\n",
    "# Показать первые 5 строк данных\n",
    "data.head()"
   ]
  },
  {
   "cell_type": "code",
   "execution_count": null,
   "id": "6b945c33-33ca-4ad7-807f-14c69a64d3ed",
   "metadata": {},
   "outputs": [],
   "source": [
    "# Подсчет пропущенных значений\n",
    "missing_values = data.isna().sum()\n",
    "logger.info(f\"Пропущенные значения:\\n{missing_values}\")\n",
    "\n",
    "# Заполнение пропущенных значений средними\n",
    "numeric_columns = data.select_dtypes(include='number').columns\n",
    "for col in numeric_columns:\n",
    "    data[col].fillna(data[col].mean(), inplace=True)\n",
    "    logger.info(f\"Пропуски в столбце '{col}' заполнены средним значением.\")\n",
    "\n",
    "# Удаление выбросов в столбце 'FTHG'\n",
    "z_scores = (data['FTHG'] - data['FTHG'].mean()) / data['FTHG'].std()\n",
    "data = data[abs(z_scores) <= 3]\n",
    "logger.info(\"Выбросы в столбце 'FTHG' удалены с порогом Z-оценки 3.\")"
   ]
  },
  {
   "cell_type": "code",
   "execution_count": null,
   "id": "75aa5cff-e0b4-442f-beb6-c31e38a7a324",
   "metadata": {},
   "outputs": [],
   "source": [
    "# Гистограмма для столбца 'FTHG'\n",
    "plt.figure(figsize=(10, 6))\n",
    "sns.histplot(data['FTHG'], bins=20, kde=True, color='skyblue')\n",
    "plt.title(\"Распределение голов домашней команды\")\n",
    "plt.xlabel(\"Голы\")\n",
    "plt.ylabel(\"Частота\")\n",
    "plt.show()\n",
    "\n",
    "# Матрица корреляций\n",
    "plt.figure(figsize=(12, 8))\n",
    "sns.heatmap(data.corr(), annot=True, cmap='coolwarm', fmt=\".2f\")\n",
    "plt.title(\"Корреляционная матрица\")\n",
    "plt.show()"
   ]
  },
  {
   "cell_type": "code",
   "execution_count": null,
   "id": "db3519a9-4eb8-4f29-8fc9-4fc24982950d",
   "metadata": {},
   "outputs": [],
   "source": [
    "# Отчет о пропущенных значениях\n",
    "logger.info(\"\\n\" + \"=\" * 40)\n",
    "logger.info(\"Отчет о пропущенных значениях:\")\n",
    "logger.info(\"=\" * 40)\n",
    "\n",
    "if missing_values.sum() == 0:\n",
    "    logger.info(\"Пропущенные значения отсутствуют.\")\n",
    "else:\n",
    "    for col, count in missing_values.items():\n",
    "        if count > 0:\n",
    "            logger.info(f\"{col}: {count} пропусков ({count/len(data)*100:.2f}%)\")"
   ]
  },
  {
   "cell_type": "markdown",
   "id": "527f0180-64be-40eb-8692-77524daa4e63",
   "metadata": {},
   "source": [
    "# Анализ данных футбольных матчей\n",
    "\n",
    "Этот проект предназначен для анализа данных футбольных матчей. Мы загружаем данные из CSV-файла, обрабатываем их и визуализируем результаты."
   ]
  },
  {
   "cell_type": "markdown",
   "id": "e29ca4e1-daca-45f5-86e1-243069f0e772",
   "metadata": {},
   "source": [
    "## Загрузка данных\n",
    "Данные загружены из файла `season-2324.csv`. Первые 5 строк данных:"
   ]
  },
  {
   "cell_type": "markdown",
   "id": "e0f67d81-1fc0-4782-9ba6-7a91ae951387",
   "metadata": {},
   "source": [
    "## Визуализация данных\n",
    "Ниже представлены гистограмма распределения голов домашней команды и матрица корреляций."
   ]
  }
 ],
 "metadata": {
  "kernelspec": {
   "display_name": "Python 3 (ipykernel)",
   "language": "python",
   "name": "python3"
  },
  "language_info": {
   "codemirror_mode": {
    "name": "ipython",
    "version": 3
   },
   "file_extension": ".py",
   "mimetype": "text/x-python",
   "name": "python",
   "nbconvert_exporter": "python",
   "pygments_lexer": "ipython3",
   "version": "3.10.0"
  }
 },
 "nbformat": 4,
 "nbformat_minor": 5
}
